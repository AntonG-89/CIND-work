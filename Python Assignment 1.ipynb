{
 "cells": [
  {
   "cell_type": "markdown",
   "metadata": {},
   "source": [
    "*****"
   ]
  },
  {
   "cell_type": "markdown",
   "metadata": {},
   "source": [
    "### Question 1:\n",
    "Based on Canada's government [labour market indicators](https://www150.statcan.gc.ca/n1/pub/71-607-x/71-607-x2017001-eng.htm) in August 2020, the unemployment population in Toronto decreased to approximately 518 thousand in August of 2020 with a month-to-month change rate of -2.5 percent."
   ]
  },
  {
   "cell_type": "markdown",
   "metadata": {},
   "source": [
    "*****"
   ]
  },
  {
   "cell_type": "markdown",
   "metadata": {
    "colab_type": "text",
    "id": "U8EiOXpFAvO0"
   },
   "source": [
    "**a)** Create four variables:\n",
    "`cityName` as String (Toronto),\n",
    "`augPopulation` as Integer (518),\n",
    "`changeRate` as Floating-point number (-2.5%),\n",
    "and `decreasing` as Boolean (True)."
   ]
  },
  {
   "cell_type": "code",
   "execution_count": 3,
   "metadata": {
    "colab": {},
    "colab_type": "code",
    "execution": {
     "iopub.execute_input": "2020-09-13T19:09:23.519Z",
     "iopub.status.busy": "2020-09-13T19:09:23.508Z",
     "iopub.status.idle": "2020-09-13T19:09:23.531Z",
     "shell.execute_reply": "2020-09-13T19:09:23.363Z"
    },
    "id": "uDtTitw9AvO1",
    "pycharm": {
     "name": "#%%\n"
    }
   },
   "outputs": [],
   "source": [
    "cityName = \"Toronto\"\n",
    "augPopulation = 518\n",
    "changeRate = -0.025\n",
    "decreasing = True"
   ]
  },
  {
   "cell_type": "markdown",
   "metadata": {},
   "source": [
    "**b)** Print every literal and type of the variables in Q1.a in a separate new line."
   ]
  },
  {
   "cell_type": "code",
   "execution_count": 4,
   "metadata": {
    "colab": {},
    "colab_type": "code",
    "execution": {
     "iopub.execute_input": "2020-09-13T19:09:23.559Z",
     "iopub.status.busy": "2020-09-13T19:09:23.548Z",
     "iopub.status.idle": "2020-09-13T19:09:23.576Z",
     "shell.execute_reply": "2020-09-13T19:09:23.376Z"
    },
    "id": "0hNt4lfFAvO9",
    "outputId": "e6089922-ff2e-4cac-eb27-cbb7e4b3a4b8",
    "pycharm": {
     "name": "#%%\n"
    }
   },
   "outputs": [
    {
     "name": "stdout",
     "output_type": "stream",
     "text": [
      "Toronto , <class 'str'>\n",
      "518 , <class 'int'>\n",
      "-0.025 , <class 'float'>\n",
      "True , <class 'bool'>\n"
     ]
    }
   ],
   "source": [
    "feats = [cityName, augPopulation, changeRate, decreasing]\n",
    "for i in range(len(feats)):\n",
    "    print (feats[i] ,\",\" ,type(feats[i]))"
   ]
  },
  {
   "cell_type": "markdown",
   "metadata": {
    "colab_type": "text",
    "id": "dGqJtsN4AvPB"
   },
   "source": [
    "**c)** If the unemployment rate stays the same in September, find how many people would still be unemployed? Round off the answer to the nearest whole number."
   ]
  },
  {
   "cell_type": "code",
   "execution_count": 5,
   "metadata": {
    "colab": {},
    "colab_type": "code",
    "execution": {
     "iopub.execute_input": "2020-09-13T19:09:23.608Z",
     "iopub.status.busy": "2020-09-13T19:09:23.595Z",
     "iopub.status.idle": "2020-09-13T19:09:23.626Z",
     "shell.execute_reply": "2020-09-13T19:09:23.388Z"
    },
    "id": "RMxzgtfgAvPC",
    "outputId": "c46ca054-5e20-4034-8832-dd0daa51e36e",
    "pycharm": {
     "name": "#%%\n"
    }
   },
   "outputs": [
    {
     "name": "stdout",
     "output_type": "stream",
     "text": [
      "505\n"
     ]
    }
   ],
   "source": [
    "sepPopulation  = augPopulation + augPopulation * changeRate\n",
    "print(round(sepPopulation))"
   ]
  },
  {
   "cell_type": "markdown",
   "metadata": {
    "colab_type": "text",
    "id": "EoRnQOTGAvPF"
   },
   "source": [
    "**d)** Find the difference between the unemployment population\n",
    "of August and that of September."
   ]
  },
  {
   "cell_type": "code",
   "execution_count": 6,
   "metadata": {
    "colab": {},
    "colab_type": "code",
    "execution": {
     "iopub.execute_input": "2020-09-13T19:09:23.659Z",
     "iopub.status.busy": "2020-09-13T19:09:23.644Z",
     "iopub.status.idle": "2020-09-13T19:09:23.690Z",
     "shell.execute_reply": "2020-09-13T19:09:23.399Z"
    },
    "id": "Le0jihDqAvPG",
    "outputId": "550a6463-3efd-428c-ae2a-01d73d30ee12",
    "pycharm": {
     "name": "#%%\n"
    }
   },
   "outputs": [
    {
     "name": "stdout",
     "output_type": "stream",
     "text": [
      "13\n"
     ]
    }
   ],
   "source": [
    "diff  = augPopulation - sepPopulation\n",
    "print(round(diff))"
   ]
  },
  {
   "cell_type": "markdown",
   "metadata": {
    "colab_type": "text",
    "id": "0I_yun_xAvPJ"
   },
   "source": [
    "**e)** Convert the variable `augPopulation` to a floating-point number\n",
    "then print the new literal and type."
   ]
  },
  {
   "cell_type": "code",
   "execution_count": 7,
   "metadata": {
    "colab": {},
    "colab_type": "code",
    "execution": {
     "iopub.execute_input": "2020-09-13T19:09:23.715Z",
     "iopub.status.busy": "2020-09-13T19:09:23.705Z",
     "iopub.status.idle": "2020-09-13T19:09:23.734Z",
     "shell.execute_reply": "2020-09-13T19:09:23.412Z"
    },
    "id": "Fl3K5JEcAvPJ",
    "outputId": "32eea573-1d13-48e3-9474-e2238268d7e0",
    "pycharm": {
     "name": "#%%\n"
    }
   },
   "outputs": [
    {
     "name": "stdout",
     "output_type": "stream",
     "text": [
      "518.0 <class 'float'>\n"
     ]
    }
   ],
   "source": [
    "augPopulation = float(augPopulation)\n",
    "print(augPopulation, type(augPopulation))"
   ]
  },
  {
   "cell_type": "markdown",
   "metadata": {
    "colab_type": "text",
    "id": "-TN3MF0tAvPM"
   },
   "source": [
    "**f)** Given that `var1` is the `sepPopulation` variable rounded to the nearest whole number,\n",
    "and `var2` is the `changeRate` variable rounded to two decimal places.\n",
    "Print the following statement:\n",
    "The unemployment populaton might be `var1` thousand in September 2020, which is a `var2` month-to-month change rate."
   ]
  },
  {
   "cell_type": "code",
   "execution_count": 28,
   "metadata": {
    "colab": {},
    "colab_type": "code",
    "execution": {
     "iopub.execute_input": "2020-09-13T19:09:23.762Z",
     "iopub.status.busy": "2020-09-13T19:09:23.752Z",
     "iopub.status.idle": "2020-09-13T19:09:23.779Z",
     "shell.execute_reply": "2020-09-13T19:09:23.423Z"
    },
    "id": "bo1lneHnAvPM",
    "outputId": "c9b8ea2c-9de5-4341-a642-dde91ec93c8a",
    "pycharm": {
     "name": "#%%\n"
    }
   },
   "outputs": [
    {
     "name": "stdout",
     "output_type": "stream",
     "text": [
      "The unemployment rate population might be 505.05 in September 2020, which is -0.025 month-to-month change rate.\n"
     ]
    }
   ],
   "source": [
    "var1 = sepPopulation\n",
    "var2 = changeRate\n",
    "print(\"The unemployment rate population might be {0} in September 2020, which is {1} month-to-month change rate.\".format(var1, var2))"
   ]
  },
  {
   "cell_type": "markdown",
   "metadata": {},
   "source": [
    "*****"
   ]
  },
  {
   "cell_type": "markdown",
   "metadata": {
    "colab_type": "text",
    "id": "rSQwBVCTAvPO"
   },
   "source": [
    "### Question 2:\n",
    "Create a list of numbers called `nmbrs` starting at 0 and ending at 21, using the following code:"
   ]
  },
  {
   "cell_type": "code",
   "execution_count": 2,
   "metadata": {
    "colab": {
     "base_uri": "https://localhost:8080/",
     "height": 34
    },
    "colab_type": "code",
    "execution": {
     "iopub.execute_input": "2020-09-13T19:09:23.804Z",
     "iopub.status.busy": "2020-09-13T19:09:23.794Z",
     "iopub.status.idle": "2020-09-13T19:09:23.819Z",
     "shell.execute_reply": "2020-09-13T19:09:23.440Z"
    },
    "id": "DVOaFVZvAvPO",
    "outputId": "2001e9df-b6de-431a-af24-4d8281233b0b",
    "pycharm": {
     "name": "#%%\n"
    }
   },
   "outputs": [
    {
     "name": "stdout",
     "output_type": "stream",
     "text": [
      "[0, 1, 2, 3, 4, 5, 6, 7, 8, 9, 10, 11, 12, 13, 14, 15, 16, 17, 18, 19, 20, 21] "
     ]
    }
   ],
   "source": [
    "# a list of numbers from 0 to 21\n",
    "nmbrs = list(range(22))\n",
    "print(nmbrs, end = ' ')"
   ]
  },
  {
   "cell_type": "markdown",
   "metadata": {
    "colab_type": "text",
    "id": "mkFrWZ3kAvPQ"
   },
   "source": [
    "**a)**  Print the `nmbrs` list in reverse order using a simple `for` loop."
   ]
  },
  {
   "cell_type": "code",
   "execution_count": 3,
   "metadata": {
    "colab": {
     "base_uri": "https://localhost:8080/",
     "height": 34
    },
    "colab_type": "code",
    "execution": {
     "iopub.execute_input": "2020-09-13T19:09:23.844Z",
     "iopub.status.busy": "2020-09-13T19:09:23.833Z",
     "iopub.status.idle": "2020-09-13T19:09:23.861Z",
     "shell.execute_reply": "2020-09-13T19:09:23.453Z"
    },
    "id": "fP4sK_mKAvPR",
    "outputId": "1cc4e73d-d913-4242-cad3-c6b46f51aff6",
    "pycharm": {
     "name": "#%%\n"
    }
   },
   "outputs": [
    {
     "name": "stdout",
     "output_type": "stream",
     "text": [
      "21\n",
      "20\n",
      "19\n",
      "18\n",
      "17\n",
      "16\n",
      "15\n",
      "14\n",
      "13\n",
      "12\n",
      "11\n",
      "10\n",
      "9\n",
      "8\n",
      "7\n",
      "6\n",
      "5\n",
      "4\n",
      "3\n",
      "2\n",
      "1\n"
     ]
    }
   ],
   "source": [
    "for i in range(len(nmbrs)-1,0,-1):\n",
    "    print (i)"
   ]
  },
  {
   "cell_type": "markdown",
   "metadata": {
    "colab_type": "text",
    "id": "M9eJ34NNAvPT"
   },
   "source": [
    "**b)**  Print only the numbers that are divisible by 7."
   ]
  },
  {
   "cell_type": "code",
   "execution_count": 11,
   "metadata": {
    "colab": {
     "base_uri": "https://localhost:8080/",
     "height": 34
    },
    "colab_type": "code",
    "execution": {
     "iopub.execute_input": "2020-09-13T19:09:23.884Z",
     "iopub.status.busy": "2020-09-13T19:09:23.875Z",
     "iopub.status.idle": "2020-09-13T19:09:23.900Z",
     "shell.execute_reply": "2020-09-13T19:09:23.464Z"
    },
    "id": "11nHxT13AvPT",
    "outputId": "a37da138-ce92-4f00-c0d9-deda1fbad356",
    "pycharm": {
     "name": "#%%\n"
    }
   },
   "outputs": [
    {
     "name": "stdout",
     "output_type": "stream",
     "text": [
      "0\n",
      "7\n",
      "14\n",
      "21\n"
     ]
    }
   ],
   "source": [
    "for i in nmbrs:\n",
    "    if i%7 == 0:\n",
    "        print (i)\n",
    "    "
   ]
  },
  {
   "cell_type": "markdown",
   "metadata": {
    "colab_type": "text",
    "id": "aJxoBDZMAvPU"
   },
   "source": [
    "**c)**  Print the odd numbers that are multiple of 3."
   ]
  },
  {
   "cell_type": "code",
   "execution_count": 12,
   "metadata": {
    "colab": {
     "base_uri": "https://localhost:8080/",
     "height": 34
    },
    "colab_type": "code",
    "execution": {
     "iopub.execute_input": "2020-09-13T19:09:23.925Z",
     "iopub.status.busy": "2020-09-13T19:09:23.916Z",
     "iopub.status.idle": "2020-09-13T19:09:23.939Z",
     "shell.execute_reply": "2020-09-13T19:09:23.475Z"
    },
    "id": "5WRgwMXxAvPV",
    "outputId": "af4b30cd-700f-4e89-e3c1-3e755c23cc11",
    "pycharm": {
     "name": "#%%\n"
    }
   },
   "outputs": [
    {
     "name": "stdout",
     "output_type": "stream",
     "text": [
      "3\n",
      "9\n",
      "15\n",
      "21\n"
     ]
    }
   ],
   "source": [
    "for i in nmbrs:\n",
    "    if i % 2 != 0 and i % 3 == 0:\n",
    "        print(i)"
   ]
  },
  {
   "cell_type": "markdown",
   "metadata": {
    "colab_type": "text",
    "id": "oDRF95yUAvPW"
   },
   "source": [
    "**d)**  Create another list called `nmrls` that includes the corresponding english names of the numbers in the `nmbrs` list, starting at `zero` and ending at `twenty-one`. \n",
    "Hint:  Import the [inflect](https://pypi.org/project/inflect/) library, then use the `number_to_words()` function to convert numbers into words."
   ]
  },
  {
   "cell_type": "code",
   "execution_count": 13,
   "metadata": {
    "colab": {
     "base_uri": "https://localhost:8080/",
     "height": 54
    },
    "colab_type": "code",
    "execution": {
     "iopub.execute_input": "2020-09-13T19:09:23.963Z",
     "iopub.status.busy": "2020-09-13T19:09:23.953Z",
     "iopub.status.idle": "2020-09-13T19:09:26.776Z",
     "shell.execute_reply": "2020-09-13T19:09:26.897Z"
    },
    "id": "aenj5klsAvPX",
    "outputId": "c344900f-7e24-4406-8a33-8e23f4165e3b",
    "pycharm": {
     "name": "#%%\n"
    },
    "scrolled": true
   },
   "outputs": [
    {
     "name": "stdout",
     "output_type": "stream",
     "text": [
      "['zero', 'one', 'two', 'three', 'four', 'five', 'six', 'seven', 'eight', 'nine', 'ten', 'eleven', 'twelve', 'thirteen', 'fourteen', 'fifteen', 'sixteen', 'seventeen', 'eighteen', 'nineteen', 'twenty', 'twenty-one']\n"
     ]
    }
   ],
   "source": [
    "import inflect\n",
    "p = inflect.engine()\n",
    "nmrls = []\n",
    "for i in nmbrs:\n",
    "    nmrl = p.number_to_words(i)\n",
    "    nmrls.append(nmrl)\n",
    "print(nmrls)"
   ]
  },
  {
   "cell_type": "markdown",
   "metadata": {
    "colab_type": "text",
    "id": "Hhvp13mPAvPY",
    "pycharm": {
     "name": "#%% md\n"
    }
   },
   "source": [
    "**e)**  Use a nested loop to count the letters\n",
    " of each element in the `nmrls` list, then print the\n",
    " element along with its number of letters."
   ]
  },
  {
   "cell_type": "code",
   "execution_count": 14,
   "metadata": {
    "colab": {
     "base_uri": "https://localhost:8080/",
     "height": 391
    },
    "colab_type": "code",
    "execution": {
     "iopub.execute_input": "2020-09-13T19:09:26.800Z",
     "iopub.status.busy": "2020-09-13T19:09:26.791Z",
     "iopub.status.idle": "2020-09-13T19:09:26.819Z",
     "shell.execute_reply": "2020-09-13T19:09:26.903Z"
    },
    "id": "kGY9g3LVAvPZ",
    "outputId": "71da0d39-73b9-464e-be30-859dc5c81db1",
    "pycharm": {
     "name": "#%%\n"
    }
   },
   "outputs": [
    {
     "name": "stdout",
     "output_type": "stream",
     "text": [
      "zero 4\n",
      "one 3\n",
      "two 3\n",
      "three 5\n",
      "four 4\n",
      "five 4\n",
      "six 3\n",
      "seven 5\n",
      "eight 5\n",
      "nine 4\n",
      "ten 3\n",
      "eleven 6\n",
      "twelve 6\n",
      "thirteen 8\n",
      "fourteen 8\n",
      "fifteen 7\n",
      "sixteen 7\n",
      "seventeen 9\n",
      "eighteen 8\n",
      "nineteen 8\n",
      "twenty 6\n",
      "twenty-one 10\n"
     ]
    }
   ],
   "source": [
    " for nmrl in nmrls:\n",
    "    count = 0 \n",
    "    for letter in nmrl:\n",
    "        count +=1\n",
    "    print (nmrl, count)"
   ]
  },
  {
   "cell_type": "markdown",
   "metadata": {
    "colab_type": "text",
    "id": "UQrBS7qSAvPb"
   },
   "source": [
    "**f)**  Print the elements in the `nmrls` list that\n",
    " have more than or equal to 7 letters and has either the letter 'o' or the letter 'g'."
   ]
  },
  {
   "cell_type": "code",
   "execution_count": 15,
   "metadata": {
    "colab": {
     "base_uri": "https://localhost:8080/",
     "height": 68
    },
    "colab_type": "code",
    "execution": {
     "iopub.execute_input": "2020-09-13T19:09:26.841Z",
     "iopub.status.busy": "2020-09-13T19:09:26.833Z",
     "iopub.status.idle": "2020-09-13T19:09:26.858Z",
     "shell.execute_reply": "2020-09-13T19:09:26.908Z"
    },
    "id": "O7rtsvqOAvPb",
    "outputId": "83d56c04-453b-4d7e-d0ef-d19ddd2c8ecf",
    "pycharm": {
     "name": "#%%\n"
    }
   },
   "outputs": [
    {
     "name": "stdout",
     "output_type": "stream",
     "text": [
      "fourteen\n",
      "eighteen\n",
      "twenty-one\n"
     ]
    }
   ],
   "source": [
    "filters = [\"o\",\"g\"]\n",
    "for nmrl in nmrls:\n",
    "    if len(nmrl) >= 7 and set(nmrl) & set(filters):\n",
    "        print(nmrl)"
   ]
  },
  {
   "cell_type": "markdown",
   "metadata": {},
   "source": [
    "*****"
   ]
  },
  {
   "cell_type": "markdown",
   "metadata": {
    "colab_type": "text",
    "id": "O3jPbo4vAvPc"
   },
   "source": [
    "### Question 3:\n",
    "Write a program that accepts the lengths of three sides of a triangle as\n",
    "inputs, using the following code, then prints the type of the triangle according to the conditions listed below."
   ]
  },
  {
   "cell_type": "code",
   "execution_count": 16,
   "metadata": {
    "colab": {
     "base_uri": "https://localhost:8080/",
     "height": 68
    },
    "colab_type": "code",
    "execution": {
     "iopub.execute_input": "2020-09-13T19:09:26.878Z",
     "iopub.status.busy": "2020-09-13T19:09:26.870Z",
     "iopub.status.idle": "2020-09-13T18:15:15.421Z",
     "shell.execute_reply": "2020-09-13T18:15:15.436Z"
    },
    "id": "YTYiW9MeAvPd",
    "outputId": "d61e7d88-0efe-45fd-84f8-bc05953dd3bc",
    "pycharm": {
     "name": "#%%\n"
    }
   },
   "outputs": [
    {
     "name": "stdout",
     "output_type": "stream",
     "text": [
      "Enter the first side: 10\n",
      "Enter the second side: 10\n",
      "Enter the third side: 12\n"
     ]
    }
   ],
   "source": [
    "# Acquiring Inputs\n",
    "side1 = float(input(\"Enter the first side: \"))\n",
    "side2 = float(input(\"Enter the second side: \"))\n",
    "side3 = float(input(\"Enter the third side: \"))"
   ]
  },
  {
   "cell_type": "markdown",
   "metadata": {
    "colab_type": "text",
    "id": "b5J7kRLZAvPe"
   },
   "source": [
    "**a)**  Equilateral Triangle: If the triangle has three congruent sides."
   ]
  },
  {
   "cell_type": "code",
   "execution_count": 17,
   "metadata": {
    "colab": {
     "base_uri": "https://localhost:8080/",
     "height": 34
    },
    "colab_type": "code",
    "execution": {
     "iopub.execute_input": "2020-09-13T18:15:18.919Z",
     "iopub.status.busy": "2020-09-13T18:15:18.907Z",
     "iopub.status.idle": "2020-09-13T18:15:18.944Z",
     "shell.execute_reply": "2020-09-13T18:15:18.954Z"
    },
    "id": "bHHNxP0IAvPe",
    "outputId": "4dbc0fd9-d420-4e36-9fce-1ab57dab51fe",
    "pycharm": {
     "name": "#%%\n"
    }
   },
   "outputs": [],
   "source": [
    "if side1 == side2 == side3:\n",
    "    print(\"This Triangle is an Equilateral Triangle\")"
   ]
  },
  {
   "cell_type": "markdown",
   "metadata": {
    "colab_type": "text",
    "id": "NduU2lxxAvPg"
   },
   "source": [
    "**b)**  Isosceles Triangle: If the triangle has two equal sides."
   ]
  },
  {
   "cell_type": "code",
   "execution_count": 18,
   "metadata": {
    "colab": {
     "base_uri": "https://localhost:8080/",
     "height": 34
    },
    "colab_type": "code",
    "id": "L1uEFS0GAvPg",
    "outputId": "ba430439-d58f-46df-b415-b2e403c79827",
    "pycharm": {
     "name": "#%%\n"
    }
   },
   "outputs": [
    {
     "name": "stdout",
     "output_type": "stream",
     "text": [
      "This Triangle is an Isosceles Triangle\n"
     ]
    }
   ],
   "source": [
    "if side1 == side2 or side2==side3 or side1==side2:\n",
    "    print(\"This Triangle is an Isosceles Triangle\")"
   ]
  },
  {
   "cell_type": "markdown",
   "metadata": {
    "colab_type": "text",
    "id": "YR6-dOJOAvPi"
   },
   "source": [
    "**c)**  Scalene Triangle: If the triangle has no congruent sides, and\n",
    " each side have a different length."
   ]
  },
  {
   "cell_type": "code",
   "execution_count": 19,
   "metadata": {
    "colab": {
     "base_uri": "https://localhost:8080/",
     "height": 34
    },
    "colab_type": "code",
    "execution": {
     "iopub.execute_input": "2020-09-13T18:15:23.202Z",
     "iopub.status.busy": "2020-09-13T18:15:23.189Z",
     "iopub.status.idle": "2020-09-13T18:15:23.226Z",
     "shell.execute_reply": "2020-09-13T18:15:23.237Z"
    },
    "id": "PvQTbdc8AvPi",
    "outputId": "7b1cb63b-7419-41a2-877e-0754f4a758ad",
    "pycharm": {
     "name": "#%%\n"
    }
   },
   "outputs": [],
   "source": [
    "if side1 != side2 != side3:\n",
    "    print(\"This is a Scalene Triangle\")"
   ]
  },
  {
   "cell_type": "markdown",
   "metadata": {
    "colab_type": "text",
    "id": "l9l0sjUoAvPk"
   },
   "source": [
    "**d)**  Right Triangle: If the square of one side equals the sum of the squares of the other\n",
    "two sides."
   ]
  },
  {
   "cell_type": "code",
   "execution_count": 20,
   "metadata": {
    "colab": {
     "base_uri": "https://localhost:8080/",
     "height": 34
    },
    "colab_type": "code",
    "execution": {
     "iopub.execute_input": "2020-09-13T18:15:25.053Z",
     "iopub.status.busy": "2020-09-13T18:15:25.041Z",
     "iopub.status.idle": "2020-09-13T18:15:25.077Z",
     "shell.execute_reply": "2020-09-13T18:15:25.090Z"
    },
    "id": "cDqwtAjhAvPk",
    "outputId": "5f3592f9-1d5d-43f4-da78-b6cdbd57543c",
    "pycharm": {
     "name": "#%%\n"
    }
   },
   "outputs": [],
   "source": [
    "sq_s1 = side1 ** 2\n",
    "sq_s2 = side2 **2\n",
    "sq_s3 = side3 ** 2\n",
    "if sq_s1 == sum([sq_s2, sq_s3]) or sq_s2 == sum([sq_s1, sq_s3]) or sq_s3 == sum([sq_s1, sq_s2]):\n",
    "    print(\"This is a Right Triangle\")"
   ]
  },
  {
   "cell_type": "markdown",
   "metadata": {
    "colab_type": "text",
    "id": "ICf1pcqGAvPm",
    "pycharm": {
     "name": "#%% md\n"
    }
   },
   "source": [
    "**e)**  Combine your answers in Q3a, Q3b, Q3c, and Q3d and write one program that decides the type of a given triangle according to its sides' length. Notably, a right triangle might be isosceles or scalene. (e.g. A triangle with the following sides: 3, 4, and 5 cm is a right scalene triangle)"
   ]
  },
  {
   "cell_type": "code",
   "execution_count": 27,
   "metadata": {
    "execution": {
     "iopub.execute_input": "2020-09-13T18:15:27.170Z",
     "iopub.status.busy": "2020-09-13T18:15:27.160Z",
     "iopub.status.idle": "2020-09-13T18:15:27.191Z",
     "shell.execute_reply": "2020-09-13T18:15:27.201Z"
    },
    "pycharm": {
     "name": "#%%\n"
    }
   },
   "outputs": [
    {
     "name": "stdout",
     "output_type": "stream",
     "text": [
      "Enter the first side: 10\n",
      "Enter the second side: 10\n",
      "Enter the third side: 12\n",
      "This is an isosceles triangle\n"
     ]
    }
   ],
   "source": [
    "def main():\n",
    "    # Acquiring Inputs\n",
    "    side1 = float(input(\"Enter the first side: \"))\n",
    "    side2 = float(input(\"Enter the second side: \"))\n",
    "    side3 = float(input(\"Enter the third side: \"))\n",
    "\n",
    "    #Testing triangle conditions\n",
    "    if side1 == side2 == side3:\n",
    "        print(\"This is an equilateral triangle\")\n",
    "\n",
    "    elif side1 == side2 or side2==side3 or side1==side2:\n",
    "        if is_right(side1, side2, side3) == True:\n",
    "            print(\"This is a right isosceles triangle\")\n",
    "        else:\n",
    "            print(\"This is an isosceles triangle\")\n",
    "    elif side1 != side2 != side3:\n",
    "        if is_right(side1, side2, side3) == True:\n",
    "            print(\"This is a right scalene triangle\")\n",
    "        else:\n",
    "            print(\"This is a scalene triangle\")      \n",
    "\n",
    "    \n",
    "## Evaluating if the triangle is a right triangle\n",
    "def is_right(x,y,z):\n",
    "    sq_x = x ** 2\n",
    "    sq_y = y **2\n",
    "    sq_z = z ** 2\n",
    "    if sq_x == sum([sq_y, sq_z]) or sq_y == sum([sq_x, sq_z]) or sq_z == sum([sq_x, sq_y]):\n",
    "        return True\n",
    "    else:\n",
    "        return False\n",
    "    \n",
    "main()"
   ]
  },
  {
   "cell_type": "markdown",
   "metadata": {
    "pycharm": {
     "name": "#%% md\n"
    }
   },
   "source": [
    "\n",
    "#### This is the end of assignment 1"
   ]
  }
 ],
 "metadata": {
  "colab": {
   "name": "asgnmt1.ipynb",
   "provenance": []
  },
  "kernelspec": {
   "display_name": "Python 3",
   "language": "python",
   "name": "python3"
  },
  "language_info": {
   "codemirror_mode": {
    "name": "ipython",
    "version": 3
   },
   "file_extension": ".py",
   "mimetype": "text/x-python",
   "name": "python",
   "nbconvert_exporter": "python",
   "pygments_lexer": "ipython3",
   "version": "3.7.7"
  },
  "nteract": {
   "version": "0.24.1"
  },
  "varInspector": {
   "cols": {
    "lenName": 16,
    "lenType": 16,
    "lenVar": 40
   },
   "kernels_config": {
    "python": {
     "delete_cmd_postfix": "",
     "delete_cmd_prefix": "del ",
     "library": "var_list.py",
     "varRefreshCmd": "print(var_dic_list())"
    },
    "r": {
     "delete_cmd_postfix": ") ",
     "delete_cmd_prefix": "rm(",
     "library": "var_list.r",
     "varRefreshCmd": "cat(var_dic_list()) "
    }
   },
   "types_to_exclude": [
    "module",
    "function",
    "builtin_function_or_method",
    "instance",
    "_Feature"
   ],
   "window_display": false
  }
 },
 "nbformat": 4,
 "nbformat_minor": 1
}
