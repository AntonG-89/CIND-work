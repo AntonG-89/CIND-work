{
 "cells": [
  {
   "cell_type": "markdown",
   "metadata": {
    "id": "_w2FpDl5pg5u"
   },
   "source": [
    "*****"
   ]
  },
  {
   "cell_type": "markdown",
   "metadata": {
    "id": "EgCYUXsUpg5w"
   },
   "source": [
    "### Question 1:"
   ]
  },
  {
   "cell_type": "markdown",
   "metadata": {
    "id": "U8EiOXpFAvO0"
   },
   "source": [
    "**a)** Define a function called `getEven` that takes a list of numbers as a parameter and returns a new list that contains only the even numbers.\n",
    "For example given \\[1, 2, 3, 4, 5, 7\\] the getEven function will return \\[2, 4\\]"
   ]
  },
  {
   "cell_type": "code",
   "execution_count": 14,
   "metadata": {
    "colab": {
     "base_uri": "https://localhost:8080/",
     "height": 34
    },
    "execution": {
     "iopub.execute_input": "2020-10-12T00:51:46.336Z",
     "iopub.status.busy": "2020-10-12T00:51:46.323Z",
     "iopub.status.idle": "2020-10-12T00:51:46.350Z",
     "shell.execute_reply": "2020-10-12T00:51:46.143Z"
    },
    "executionInfo": {
     "elapsed": 551,
     "status": "ok",
     "timestamp": 1601305912823,
     "user": {
      "displayName": "Uzair Ahmad",
      "photoUrl": "",
      "userId": "17882447974983956440"
     },
     "user_tz": 240
    },
    "id": "uDtTitw9AvO1",
    "outputId": "782b0db1-1426-4ce3-9f39-5f975448c3df",
    "pycharm": {
     "name": "#%%\n"
    }
   },
   "outputs": [
    {
     "name": "stdout",
     "output_type": "stream",
     "text": [
      "Please input numbers:1,2,3,4,5,6\n",
      "[2, 4, 6]\n"
     ]
    }
   ],
   "source": [
    "def getEven():\n",
    "    nums = input(\"Please input numbers:\")\n",
    "    num_list = nums.split(\",\")\n",
    "    evens  = []\n",
    "    odds = []\n",
    "    for i in num_list:\n",
    "        if int(i) % 2 == 0:\n",
    "            evens.append(int(i))\n",
    "        else:\n",
    "            odds.append(int(i))\n",
    "    print(evens)\n",
    "getEven()"
   ]
  },
  {
   "cell_type": "markdown",
   "metadata": {
    "id": "7P6eyfpepg58"
   },
   "source": [
    "**b)** Modify the `getEven` function you created in Q1.a to return a dictionary of the counts of the even and the odd numbers. For example given \\[1, 2, 3, 4, 5, 7\\] the function returns {'even': 2, 'odd': 4}."
   ]
  },
  {
   "cell_type": "code",
   "execution_count": 1,
   "metadata": {
    "colab": {
     "base_uri": "https://localhost:8080/",
     "height": 34
    },
    "execution": {
     "iopub.execute_input": "2020-10-12T00:51:46.380Z",
     "iopub.status.busy": "2020-10-12T00:51:46.370Z",
     "iopub.status.idle": "2020-10-12T00:51:46.390Z",
     "shell.execute_reply": "2020-10-12T00:51:46.160Z"
    },
    "executionInfo": {
     "elapsed": 297,
     "status": "ok",
     "timestamp": 1601305913835,
     "user": {
      "displayName": "Uzair Ahmad",
      "photoUrl": "",
      "userId": "17882447974983956440"
     },
     "user_tz": 240
    },
    "id": "s2xo2uaYpg59",
    "outputId": "60fda112-951b-4af0-de95-0b3f2fe83c47",
    "pycharm": {
     "name": "#%%\n"
    },
    "tags": [
     "parameters"
    ]
   },
   "outputs": [
    {
     "name": "stdout",
     "output_type": "stream",
     "text": [
      "Please input numbers:1,2,3,4,5,7\n",
      "{'evens': 2, 'odds': 4}\n"
     ]
    }
   ],
   "source": [
    "def getEven():\n",
    "    nums = input(\"Please input numbers:\")\n",
    "    num_list = nums.split(\",\")\n",
    "    \n",
    "    num_dict = {}\n",
    "    evens = []\n",
    "    odds = []\n",
    "    \n",
    "    for i in num_list:\n",
    "        if int(i) % 2 == 0:\n",
    "            evens.append(int(i))\n",
    "        else:\n",
    "            odds.append(int(i))\n",
    "            \n",
    "    num_dict[\"evens\"] = len(evens)\n",
    "    num_dict[\"odds\"] = len(odds)\n",
    "    print(num_dict)\n",
    "    \n",
    "getEven()"
   ]
  },
  {
   "cell_type": "markdown",
   "metadata": {
    "id": "xC08P3Mvpg6C"
   },
   "source": [
    "**c)** Modify the function you created in Q1.b and add two more more entries to the returned dictionary: one to represent the sum of all the numbers and the other one to represent the ratio of the even to the odd numbers.  For example, given \\[1, 2, 3, 4, 5, 7\\] the function returns {'even': 2, 'odd': 4, 'sum': 6, 'ratio': 0.5}."
   ]
  },
  {
   "cell_type": "code",
   "execution_count": 4,
   "metadata": {
    "colab": {
     "base_uri": "https://localhost:8080/",
     "height": 34
    },
    "execution": {
     "iopub.execute_input": "2020-10-12T00:51:46.418Z",
     "iopub.status.busy": "2020-10-12T00:51:46.403Z",
     "iopub.status.idle": "2020-10-12T00:51:46.429Z",
     "shell.execute_reply": "2020-10-12T00:51:46.172Z"
    },
    "executionInfo": {
     "elapsed": 484,
     "status": "ok",
     "timestamp": 1601060937685,
     "user": {
      "displayName": "Tamer Abdou",
      "photoUrl": "https://lh3.googleusercontent.com/a-/AOh14GjCgNQvVj3RXxhuiis_tt7gJ-TeyFHRttd9g6sIBw=s64",
      "userId": "05886486315929943744"
     },
     "user_tz": 240
    },
    "id": "MVoBD9X1pg6D",
    "outputId": "f4006de2-de91-4b1c-8e5a-b873c71bed49",
    "pycharm": {
     "name": "#%%\n"
    },
    "tags": []
   },
   "outputs": [
    {
     "name": "stdout",
     "output_type": "stream",
     "text": [
      "Please input numbers:1,2,3,4,5,7\n",
      "{'evens': 2, 'odds': 4, 'sum': 22, 'ratio': 0.5}\n"
     ]
    },
    {
     "data": {
      "text/plain": [
       "dict_keys(['evens', 'odds', 'sum', 'ratio'])"
      ]
     },
     "execution_count": 4,
     "metadata": {},
     "output_type": "execute_result"
    }
   ],
   "source": [
    "def getEven():\n",
    "    nums = input(\"Please input numbers:\")\n",
    "    num_list = nums.split(\",\")\n",
    "    \n",
    " \n",
    "    num_dict = {}\n",
    "    evens = []\n",
    "    odds = []\n",
    "     \n",
    "    for i in num_list:\n",
    "        if int(i) % 2 == 0:\n",
    "            evens.append(int(i))\n",
    "        else:\n",
    "            odds.append(int(i))\n",
    "\n",
    "    num_dict[\"evens\"] = len(evens)\n",
    "    num_dict[\"odds\"] = len(odds)\n",
    "    num_dict[\"sum\"] = sum(evens) + sum(odds)\n",
    "    num_dict[\"ratio\"] = len(evens)/len(odds)\n",
    "    \n",
    "    print(num_dict)\n",
    "\n",
    "getEven()\n"
   ]
  },
  {
   "cell_type": "markdown",
   "metadata": {
    "id": "M4dHoJWYpg6G"
   },
   "source": [
    "**d)** Modify the function you created in Q1.c to traverse the values of the returned dictionary and return the dictionary keys as a tuple.  For example, given \\[1, 2, 3, 4, 5, 7\\] the function returns ('even', 'odd', 'sum', 'ratio')."
   ]
  },
  {
   "cell_type": "code",
   "execution_count": 5,
   "metadata": {
    "colab": {
     "base_uri": "https://localhost:8080/",
     "height": 34
    },
    "execution": {
     "iopub.execute_input": "2020-10-12T00:51:46.457Z",
     "iopub.status.busy": "2020-10-12T00:51:46.445Z",
     "iopub.status.idle": "2020-10-12T00:51:46.467Z",
     "shell.execute_reply": "2020-10-12T00:51:46.185Z"
    },
    "executionInfo": {
     "elapsed": 479,
     "status": "ok",
     "timestamp": 1601060937685,
     "user": {
      "displayName": "Tamer Abdou",
      "photoUrl": "https://lh3.googleusercontent.com/a-/AOh14GjCgNQvVj3RXxhuiis_tt7gJ-TeyFHRttd9g6sIBw=s64",
      "userId": "05886486315929943744"
     },
     "user_tz": 240
    },
    "id": "gtgmUSaQpg6H",
    "outputId": "c1d81bca-edf5-4d94-d3e7-bb37fe9d7aa6",
    "pycharm": {
     "name": "#%%\n"
    },
    "tags": []
   },
   "outputs": [
    {
     "name": "stdout",
     "output_type": "stream",
     "text": [
      "Please input numbers:1,2,3,4,5,7\n",
      "{'evens': 2, 'odds': 4, 'sum': 22, 'ratio': 0.5} dict_keys(['evens', 'odds', 'sum', 'ratio'])\n"
     ]
    }
   ],
   "source": [
    "def getEven():\n",
    "    nums = input(\"Please input numbers:\")\n",
    "    num_list = nums.split(\",\")\n",
    "    \n",
    "    num_dict = {}\n",
    "    evens = []\n",
    "    odds = []\n",
    "     \n",
    "    for i in num_list:\n",
    "        if int(i) % 2 == 0:\n",
    "            evens.append(int(i))\n",
    "        else:\n",
    "            odds.append(int(i))\n",
    "\n",
    "    num_dict[\"evens\"] = len(evens)\n",
    "    num_dict[\"odds\"] = len(odds)\n",
    "    num_dict[\"sum\"] = sum(evens) + sum(odds)\n",
    "    num_dict[\"ratio\"] = len(evens)/len(odds)\n",
    "    \n",
    "    print(num_dict,num_dict.keys())\n",
    "\n",
    "getEven()\n"
   ]
  },
  {
   "cell_type": "markdown",
   "metadata": {
    "id": "ES2Lj2aup8BB"
   },
   "source": [
    "*****"
   ]
  },
  {
   "cell_type": "markdown",
   "metadata": {
    "id": "TEbtnn-0pg6K",
    "nteract": {
     "transient": {
      "deleting": false
     }
    }
   },
   "source": [
    "\n",
    "\n",
    "### Question 2:\n",
    "\n",
    "Let's define a base class called `Shape` with methods to calculate the area and perimeter of different shapes, as follows:"
   ]
  },
  {
   "cell_type": "code",
   "execution_count": 1,
   "metadata": {
    "execution": {
     "iopub.execute_input": "2020-10-12T00:51:46.492Z",
     "iopub.status.busy": "2020-10-12T00:51:46.483Z",
     "iopub.status.idle": "2020-10-12T00:51:46.503Z",
     "shell.execute_reply": "2020-10-12T00:51:46.194Z"
    },
    "id": "sAiYselppg6K",
    "jupyter": {
     "outputs_hidden": false,
     "source_hidden": false
    },
    "nteract": {
     "transient": {
      "deleting": false
     }
    }
   },
   "outputs": [
    {
     "data": {
      "text/plain": [
       "I am a Shape"
      ]
     },
     "execution_count": 1,
     "metadata": {},
     "output_type": "execute_result"
    }
   ],
   "source": [
    "class Shape:\n",
    "    '''A class defining shapes'''\n",
    "    def __repr__(self):\n",
    "        return f'I am a {self.__class__.__name__}'\n",
    "\n",
    "    def area(self):\n",
    "        print (area)\n",
    "        \n",
    "    def perimeter(self):\n",
    "        print(perimeter)\n",
    "    \n",
    "\n",
    "         \n",
    "\n",
    "Shape()"
   ]
  },
  {
   "cell_type": "markdown",
   "metadata": {
    "id": "FRw3RLJ0pg6M",
    "nteract": {
     "transient": {
      "deleting": false
     }
    }
   },
   "source": [
    "**a)**  Define a subclass called `Rectangle` that extends the `Shape` class.  The `Rectangle` class has two parameters: width and height. The area and perimeter of can be computed according to the following formulae:\n",
    "\n",
    "$ area = width * height $\n",
    "\n",
    "$ perimeter = 2 * width * height $\n",
    "\n",
    "Hint: A subclass can implement a base class by overriding methods. The `Rectangle` subclass can be defined with the following header:\n",
    "`class Rectangle(Shape):`\n",
    "\n",
    "For example, if the subclass `Rectangle` is instantiated with `Rectangle(3,4)`, the following will be returned:\n",
    "\n",
    "`I am a Rectangle`\n",
    "\n",
    "`area = 12`\n",
    "\n",
    "`perimeter = 14`"
   ]
  },
  {
   "cell_type": "code",
   "execution_count": 2,
   "metadata": {
    "colab": {
     "base_uri": "https://localhost:8080/",
     "height": 68
    },
    "execution": {
     "iopub.execute_input": "2020-10-12T00:51:46.534Z",
     "iopub.status.busy": "2020-10-12T00:51:46.523Z",
     "iopub.status.idle": "2020-10-12T00:51:46.546Z",
     "shell.execute_reply": "2020-10-12T00:51:46.214Z"
    },
    "executionInfo": {
     "elapsed": 743,
     "status": "ok",
     "timestamp": 1601060838583,
     "user": {
      "displayName": "Tamer Abdou",
      "photoUrl": "https://lh3.googleusercontent.com/a-/AOh14GjCgNQvVj3RXxhuiis_tt7gJ-TeyFHRttd9g6sIBw=s64",
      "userId": "05886486315929943744"
     },
     "user_tz": 240
    },
    "id": "PWvj1Z6lpg6N",
    "nteract": {
     "transient": {
      "deleting": false
     }
    },
    "outputId": "75f584da-fab5-4ce6-b1c4-82b953ac81d1",
    "tags": []
   },
   "outputs": [
    {
     "data": {
      "text/plain": [
       " I am a Rectangle,\n",
       " area = 12,\n",
       " perimeter = 14"
      ]
     },
     "execution_count": 2,
     "metadata": {},
     "output_type": "execute_result"
    }
   ],
   "source": [
    "class Rectangle(Shape):\n",
    "      \n",
    "    def __init__(self,width,height, area = 0 , perimeter = 0):\n",
    "        super().__init__()\n",
    "        self.width = width\n",
    "        self.height = height\n",
    "        self.area = self.width * self.height\n",
    "        self.perimeter = 2 * (self.width + self.height)\n",
    "        \n",
    "    \n",
    "    def __repr__(self):\n",
    "        return f' I am a {self.__class__.__name__},\\n area = {self.area},\\n perimeter = {self.perimeter}'\n",
    "    \n",
    "\n",
    "rec = Rectangle(3,4)\n",
    "\n",
    "rec"
   ]
  },
  {
   "cell_type": "markdown",
   "metadata": {
    "id": "dGqJtsN4AvPB"
   },
   "source": [
    "**b)**  Define a subclass called `Square` that extends the `Rectangle` class. \n",
    "\n",
    "Hint: The `Square` class should inherit all the attributes and behaviours of the `Rectangle` class. However, for any square, the width and height are the same."
   ]
  },
  {
   "cell_type": "code",
   "execution_count": 4,
   "metadata": {
    "colab": {
     "base_uri": "https://localhost:8080/",
     "height": 68
    },
    "execution": {
     "iopub.execute_input": "2020-10-12T00:51:46.573Z",
     "iopub.status.busy": "2020-10-12T00:51:46.562Z",
     "iopub.status.idle": "2020-10-12T00:51:46.584Z",
     "shell.execute_reply": "2020-10-12T00:51:46.227Z"
    },
    "executionInfo": {
     "elapsed": 1309,
     "status": "ok",
     "timestamp": 1601060845986,
     "user": {
      "displayName": "Tamer Abdou",
      "photoUrl": "https://lh3.googleusercontent.com/a-/AOh14GjCgNQvVj3RXxhuiis_tt7gJ-TeyFHRttd9g6sIBw=s64",
      "userId": "05886486315929943744"
     },
     "user_tz": 240
    },
    "id": "DVOaFVZvAvPO",
    "outputId": "6e99287e-26ca-4160-e8f5-d92725e32a1c",
    "pycharm": {
     "name": "#%%\n"
    },
    "tags": []
   },
   "outputs": [
    {
     "data": {
      "text/plain": [
       " I am a Square,\n",
       " area = 25,\n",
       " perimeter = 20"
      ]
     },
     "execution_count": 4,
     "metadata": {},
     "output_type": "execute_result"
    }
   ],
   "source": [
    "class Square(Rectangle):\n",
    "    \n",
    "    def __init__(self, side, area = 0, perimeter = 0):\n",
    "        super().__init__(side, side) \n",
    "    \n",
    "sqr = Square(5)\n",
    "sqr"
   ]
  },
  {
   "cell_type": "markdown",
   "metadata": {
    "id": "mkFrWZ3kAvPQ"
   },
   "source": [
    "**c)**  Define a subclass called `Circle` that extends the `Shape` class.  The `Circle` class has only one parameter which is the `radius`, and the area and perimeter can be computed according to the following formulae:\n",
    "\n",
    "$Area Of Circle = πR^2$\n",
    "\n",
    "$Perimeter Of Circle = 2πR$\n",
    "\n",
    "Hint:  You might consider using the `math.pi` constant that returns the value of pi: 3.141592653589793.\n",
    "\n",
    "For example, if the subclass `Circle` is instantiated with Circle(radius = 5), the following will be returned:\n",
    "\n",
    "`I am a Circle`\n",
    "\n",
    "`area = 78.54`\n",
    "\n",
    "`perimeter = 31.42`"
   ]
  },
  {
   "cell_type": "code",
   "execution_count": 5,
   "metadata": {},
   "outputs": [
    {
     "data": {
      "text/plain": [
       " I am a Circle,\n",
       " area = 78.54,\n",
       " perimeter = 31.42"
      ]
     },
     "execution_count": 5,
     "metadata": {},
     "output_type": "execute_result"
    }
   ],
   "source": [
    "import math\n",
    "\n",
    "class Circle(Shape):\n",
    "    \n",
    "    def __init__(self, radius, area = 0, perimiter =0):\n",
    "        super().__init__()\n",
    "        self.radius =  radius\n",
    "        self.area = math.pi * self.radius**2\n",
    "        self.perimeter = 2 * math.pi * self.radius \n",
    "        \n",
    "    def __repr__(self):\n",
    "        return f' I am a {self.__class__.__name__},\\n area = {round(self.area, 2)},\\n perimeter = {round(self.perimeter,2)}'\n",
    "\n",
    "crcl = Circle(5)   \n",
    "crcl"
   ]
  },
  {
   "cell_type": "markdown",
   "metadata": {
    "id": "M9eJ34NNAvPT"
   },
   "source": [
    "*****"
   ]
  },
  {
   "cell_type": "markdown",
   "metadata": {
    "id": "NNVEX5FMq_I7"
   },
   "source": [
    "### Question 3:\n",
    "Email spam, also called junk email, is undesirable message sent in bulk by email (spamming). Spam filtering is an example of a document classification task deciding whether an email is a spam or non-spam. Assume that `txtFile` variable includes the content of a recieved email that has been stored as `email.txt`, as follows:\n"
   ]
  },
  {
   "cell_type": "code",
   "execution_count": 41,
   "metadata": {
    "execution": {
     "iopub.execute_input": "2020-10-12T00:51:46.641Z",
     "iopub.status.busy": "2020-10-12T00:51:46.631Z",
     "iopub.status.idle": "2020-10-12T00:51:46.651Z",
     "shell.execute_reply": "2020-10-12T00:51:46.254Z"
    },
    "id": "5WRgwMXxAvPV",
    "pycharm": {
     "name": "#%%\n"
    }
   },
   "outputs": [],
   "source": [
    "txtFile = open(\"email.txt\", \"w\") #Opening a file for writing\n",
    "txtFile.write(\"Subject: SAVE YOUR MUSIC AND REDEEM A SPOTIFY GIFT CARD\\n\\\n",
    "We noticed you haven\\'t used your Spotify account for accessing Spotify services in quite a while. To protect your privacy, this account will be deleted in 14 days, unless you sign in now!\\n\\\n",
    "If you haven\\'t experienced Spotify services recently, they\\'re worth another look.\\n\\\n",
    "It just takes a few seconds to sign in to a spotify account.\\n\\\n",
    "By clicking on any of the following links, you can get a gift card from Spotify worth $10, $20 or $50!\\n\\\n",
    "https://www.spotifytwo.ca\\n\\\n",
    "https://www.spotifynow.com\\n\\\n",
    "We hope to see you soon,\\n\\\n",
    "Sincerely, \\n\\\n",
    "Spotify account team\")\n",
    "txtFile.close()"
   ]
  },
  {
   "cell_type": "markdown",
   "metadata": {
    "id": "oDRF95yUAvPW",
    "pycharm": {
     "name": "#%% md\n"
    }
   },
   "source": [
    "**a)** Display the total number of lines and words in the email.txt file."
   ]
  },
  {
   "cell_type": "code",
   "execution_count": 48,
   "metadata": {
    "colab": {
     "base_uri": "https://localhost:8080/",
     "height": 51
    },
    "execution": {
     "iopub.execute_input": "2020-10-12T00:51:46.676Z",
     "iopub.status.busy": "2020-10-12T00:51:46.667Z",
     "iopub.status.idle": "2020-10-12T00:51:46.688Z",
     "shell.execute_reply": "2020-10-12T00:51:46.268Z"
    },
    "executionInfo": {
     "elapsed": 399,
     "status": "ok",
     "timestamp": 1601067003965,
     "user": {
      "displayName": "Tamer Abdou",
      "photoUrl": "https://lh3.googleusercontent.com/a-/AOh14GjCgNQvVj3RXxhuiis_tt7gJ-TeyFHRttd9g6sIBw=s64",
      "userId": "05886486315929943744"
     },
     "user_tz": 240
    },
    "id": "O3jPbo4vAvPc",
    "outputId": "9d1010d7-79a5-4386-b508-8c53a4670f14"
   },
   "outputs": [
    {
     "name": "stdout",
     "output_type": "stream",
     "text": [
      "The line count is 10, the word count is 100\n"
     ]
    }
   ],
   "source": [
    "textF = open(\"email.txt\", \"r\")\n",
    "line_count = 0\n",
    "word_count = 0\n",
    "for line in textF:\n",
    "    line_count +=1\n",
    "    words = line.split()\n",
    "    for word in words:\n",
    "        word_count+=1\n",
    "        \n",
    "print (f\"The line count is {line_count}, the word count is {word_count}\")\n",
    "textF.close()"
   ]
  },
  {
   "cell_type": "markdown",
   "metadata": {
    "id": "YTYiW9MeAvPd"
   },
   "source": [
    "**b)** Display the subject of the received email existing in the `email.txt` file, then display the number of the upper and lower cases in the subject field."
   ]
  },
  {
   "cell_type": "code",
   "execution_count": 50,
   "metadata": {
    "colab": {
     "base_uri": "https://localhost:8080/",
     "height": 102
    },
    "execution": {
     "iopub.execute_input": "2020-10-12T00:51:46.714Z",
     "iopub.status.busy": "2020-10-12T00:51:46.705Z",
     "iopub.status.idle": "2020-10-12T00:51:46.725Z",
     "shell.execute_reply": "2020-10-12T00:51:46.279Z"
    },
    "executionInfo": {
     "elapsed": 474,
     "status": "ok",
     "timestamp": 1601066987288,
     "user": {
      "displayName": "Tamer Abdou",
      "photoUrl": "https://lh3.googleusercontent.com/a-/AOh14GjCgNQvVj3RXxhuiis_tt7gJ-TeyFHRttd9g6sIBw=s64",
      "userId": "05886486315929943744"
     },
     "user_tz": 240
    },
    "id": "b5J7kRLZAvPe",
    "outputId": "e5d9eed8-9d18-4dc3-96b2-4821b3e4e73a"
   },
   "outputs": [
    {
     "name": "stdout",
     "output_type": "stream",
     "text": [
      "There are 39 upper letters and 17 lower letters.\n"
     ]
    }
   ],
   "source": [
    "textF = open(\"email.txt\", \"r\")\n",
    "subject = textF.readline()\n",
    "upper_count = 0\n",
    "lower_count = 0\n",
    "for char in subject:\n",
    "    if char.isupper():\n",
    "        upper_count += 1\n",
    "        \n",
    "    else:\n",
    "        lower_count += 1\n",
    "print(f\"There are {upper_count} upper letters and {lower_count} lower letters.\")\n",
    "\n",
    "textF.close()"
   ]
  },
  {
   "cell_type": "markdown",
   "metadata": {
    "id": "bHHNxP0IAvPe"
   },
   "source": [
    "**c)** Does the email contain spam words such as 'gift', 'sign' or 'Buy'? "
   ]
  },
  {
   "cell_type": "code",
   "execution_count": 129,
   "metadata": {
    "colab": {
     "base_uri": "https://localhost:8080/",
     "height": 68
    },
    "execution": {
     "iopub.execute_input": "2020-10-12T00:51:46.749Z",
     "iopub.status.busy": "2020-10-12T00:51:46.740Z",
     "iopub.status.idle": "2020-10-12T00:51:46.761Z",
     "shell.execute_reply": "2020-10-12T00:51:46.292Z"
    },
    "executionInfo": {
     "elapsed": 752,
     "status": "ok",
     "timestamp": 1601061668153,
     "user": {
      "displayName": "Tamer Abdou",
      "photoUrl": "https://lh3.googleusercontent.com/a-/AOh14GjCgNQvVj3RXxhuiis_tt7gJ-TeyFHRttd9g6sIBw=s64",
      "userId": "05886486315929943744"
     },
     "user_tz": 240
    },
    "id": "NduU2lxxAvPg",
    "outputId": "ee7c855c-68cf-4773-9d09-a6c756f6bc1d"
   },
   "outputs": [
    {
     "name": "stdout",
     "output_type": "stream",
     "text": [
      "This email contains predefined spam words.\n"
     ]
    }
   ],
   "source": [
    "textF = open(\"email.txt\", \"r\")\n",
    "email = textF.readlines()\n",
    "spam = [\"gift\", \"sign\", \"Buy\"]\n",
    "email_words = [sentence.split() for sentence in email]\n",
    "email_words = sum(email_words, [])\n",
    "for word in email_words:\n",
    "    if set(email_words) & set(spam):\n",
    "        print (\"This email contains predefined spam words.\")\n",
    "        break\n",
    "        \n",
    "textF.close()"
   ]
  },
  {
   "cell_type": "markdown",
   "metadata": {
    "id": "TO4Ed0HWpg6d"
   },
   "source": [
    "**d)** Define a list that consists of 10 different email spam trigger words, then check whether any of those words exist in the body of the email or not. If the email contains a spam word, print it; otherwise, return a message that the email does not include any predefined spam words."
   ]
  },
  {
   "cell_type": "code",
   "execution_count": 130,
   "metadata": {
    "execution": {
     "iopub.execute_input": "2020-10-12T00:51:46.788Z",
     "iopub.status.busy": "2020-10-12T00:51:46.778Z",
     "iopub.status.idle": "2020-10-12T00:51:46.796Z",
     "shell.execute_reply": "2020-10-12T00:51:46.307Z"
    },
    "id": "xrhY3djppg6d"
   },
   "outputs": [
    {
     "name": "stdout",
     "output_type": "stream",
     "text": [
      "This email has the following spam words: {'gift', 'sign'}\n"
     ]
    }
   ],
   "source": [
    "textF = open(\"email.txt\", \"r\")\n",
    "email = textF.readlines()\n",
    "spam = [\"gift\", \"sign\", \"Buy\", \"Clearance\", \"Order\", \"shopper\",\"Double your\", \"Earn\", \"Opportunity\", \"Cash\"]\n",
    "email_words = [sentence.split() for sentence in email]\n",
    "email_words = sum(email_words, [])\n",
    "\n",
    "current_spam = set(email_words).intersection(spam)\n",
    "\n",
    "if len(current_spam) == 0:\n",
    "    print (\"This email does not contain any predefined spam words.\")\n",
    "else:\n",
    "    print(f\"This email has the following spam words: {current_spam}\")\n"
   ]
  },
  {
   "cell_type": "markdown",
   "metadata": {
    "id": "l9l0sjUoAvPk"
   },
   "source": [
    "#### This is the end of assignment 2"
   ]
  }
 ],
 "metadata": {
  "colab": {
   "collapsed_sections": [],
   "name": "CIND830F20 Assignment 2 QA.ipynb",
   "provenance": []
  },
  "kernelspec": {
   "display_name": "Python 3",
   "language": "python",
   "name": "python3"
  },
  "language_info": {
   "codemirror_mode": {
    "name": "ipython",
    "version": 3
   },
   "file_extension": ".py",
   "mimetype": "text/x-python",
   "name": "python",
   "nbconvert_exporter": "python",
   "pygments_lexer": "ipython3",
   "version": "3.7.7"
  },
  "nteract": {
   "version": "0.25.1"
  },
  "varInspector": {
   "cols": {
    "lenName": 16,
    "lenType": 16,
    "lenVar": 40
   },
   "kernels_config": {
    "python": {
     "delete_cmd_postfix": "",
     "delete_cmd_prefix": "del ",
     "library": "var_list.py",
     "varRefreshCmd": "print(var_dic_list())"
    },
    "r": {
     "delete_cmd_postfix": ") ",
     "delete_cmd_prefix": "rm(",
     "library": "var_list.r",
     "varRefreshCmd": "cat(var_dic_list()) "
    }
   },
   "types_to_exclude": [
    "module",
    "function",
    "builtin_function_or_method",
    "instance",
    "_Feature"
   ],
   "window_display": false
  }
 },
 "nbformat": 4,
 "nbformat_minor": 4
}
