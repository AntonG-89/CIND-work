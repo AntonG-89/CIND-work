{
 "cells": [
  {
   "cell_type": "markdown",
   "metadata": {
    "id": "EgCYUXsUpg5w"
   },
   "source": [
    "### Question 1:"
   ]
  },
  {
   "cell_type": "markdown",
   "metadata": {
    "id": "U8EiOXpFAvO0"
   },
   "source": [
    "**a)** Write a code segment to create and print a two-dimensional 5x4 array (i.e. grid). The elements of the grid should be randomly selected from the inclusive interval \\[-50, 50\\]."
   ]
  },
  {
   "cell_type": "code",
   "execution_count": 1,
   "metadata": {
    "execution": {
     "iopub.execute_input": "2020-11-05T13:44:44.904Z",
     "iopub.status.busy": "2020-11-05T13:44:44.891Z",
     "iopub.status.idle": "2020-11-05T13:44:44.929Z",
     "shell.execute_reply": "2020-11-05T13:44:44.973Z"
    },
    "id": "uDtTitw9AvO1",
    "pycharm": {
     "name": "#%%\n"
    }
   },
   "outputs": [],
   "source": [
    "class iArray():\n",
    "    def __init__(self, capacity, fillValue = None):\n",
    "        self._items = list()\n",
    "        for count in range(capacity):\n",
    "            self._items.append(fillValue)\n",
    "            \n",
    "    def __len__(self):\n",
    "        return len(self._items)\n",
    "    \n",
    "    def __str__(self):\n",
    "        return str(self._items)\n",
    "\n",
    "    def __getitem__(self, index):\n",
    "        return self._items[index]\n",
    "    \n",
    "    def __setitem__(self, index, newItem):\n",
    "        self._items[index] = newItem\n",
    "        \n",
    "    \n",
    "    def __iter__(self):\n",
    "        return iter(self._items)\n",
    "    \n",
    "class iGrid():\n",
    "    def __init__(self,rows,columns, fillValue = None):\n",
    "        self._data = iArray(rows)\n",
    "        for row in range(rows):\n",
    "            self._data[row] = iArray(columns, fillValue)\n",
    "    \n",
    "    def getRows(self):\n",
    "        return len(self._data)\n",
    "    \n",
    "    def getColumns(self):\n",
    "        return len(self._data[0])\n",
    "    \n",
    "    def __getitem__(self,index):\n",
    "        return self._data[index]\n",
    "    \n",
    "    def __str__(self):\n",
    "        result = \" \"\n",
    "        \n",
    "        for row in range(self.getRows()):\n",
    "            for column in range(self.getColumns()):\n",
    "                result += str(self._data[row][column]) + \" \"\n",
    "            result += \"\\n\"\n",
    "        \n",
    "        return result\n"
   ]
  },
  {
   "cell_type": "code",
   "execution_count": 2,
   "metadata": {},
   "outputs": [
    {
     "name": "stdout",
     "output_type": "stream",
     "text": [
      " -6 50 39 31 \n",
      "-24 25 37 3 \n",
      "37 13 -17 -25 \n",
      "-48 -36 4 -29 \n",
      "-5 -23 12 -42 \n",
      "\n"
     ]
    }
   ],
   "source": [
    "import random\n",
    "s_grid = iGrid(5,4)\n",
    "for r in range(s_grid.getRows()):\n",
    "    for c in range(s_grid.getColumns()):\n",
    "        s_grid[r][c] = random.randint(-50,51)\n",
    "\n",
    "print(str(s_grid))"
   ]
  },
  {
   "cell_type": "markdown",
   "metadata": {
    "id": "daGGPcbJm4Wf"
   },
   "source": [
    "**b)** Write a code segment that searches the `Grid` object in `Q1a` for all the negative integers, and prints them."
   ]
  },
  {
   "cell_type": "code",
   "execution_count": 3,
   "metadata": {
    "id": "i69O_-x4m4zX"
   },
   "outputs": [
    {
     "name": "stdout",
     "output_type": "stream",
     "text": [
      "-6 -24 -17 -25 -48 -36 -29 -5 -23 -42 "
     ]
    }
   ],
   "source": [
    "for r in range(s_grid.getRows()):\n",
    "    for c in range(s_grid.getColumns()):\n",
    "        if s_grid[r][c] < 0:\n",
    "            print (s_grid[r][c], end = \" \")"
   ]
  },
  {
   "cell_type": "markdown",
   "metadata": {
    "id": "xC08P3Mvpg6C"
   },
   "source": [
    "**c)** Given that `iList = [1, -1, 2, -2]`, add each element of `iList` to its corresponding element of `Q1a` `Grid` row-wise.  \n",
    "\n",
    "For example, if the Grid is equal to: $$\\begin{pmatrix} 1 & 2 & 1 & 1 \\\\ 3 & 0 & 1 & 6 \\\\ 0 & 2 & 4 & 6 \\\\ 4 & 5 &0 & 2 \\\\ 3 & 6 & 4 & 3 \\end{pmatrix}$$\n",
    "\n",
    "Then the output should be:\n",
    "$$\\begin{pmatrix} 1+1 & 2-1 & 1+2 & 1-2 \\\\ 3+1 & 0-1 & 1+2 & 6-2 \\\\ 0+1 & 2-1 & 4+2 & 6-2 \\\\ 4+1 & 5-1 &0+2 & 2-2 \\\\ 3+1 & 6-1 & 4+2 & 3-2 \\end{pmatrix}$$"
   ]
  },
  {
   "cell_type": "code",
   "execution_count": 4,
   "metadata": {
    "id": "MVoBD9X1pg6D",
    "pycharm": {
     "name": "#%%\n"
    },
    "tags": []
   },
   "outputs": [
    {
     "name": "stdout",
     "output_type": "stream",
     "text": [
      " -5 49 41 29 \n",
      "-23 24 39 1 \n",
      "38 12 -15 -27 \n",
      "-47 -37 6 -31 \n",
      "-4 -24 14 -44 \n",
      "\n"
     ]
    }
   ],
   "source": [
    "iList = [1,-1,2,-2]\n",
    "\n",
    "for r in range(s_grid.getRows()):\n",
    "    for c in range(s_grid.getColumns()):\n",
    "        s_grid[r][c] += iList[c]\n",
    "        \n",
    "print(str(s_grid))"
   ]
  },
  {
   "cell_type": "markdown",
   "metadata": {
    "id": "3VHOL8GT2yQ8"
   },
   "source": [
    "**d)** Write a code segment that creates a ragged grid with three rows.  The first row contains 2 positions, the second row contains 4 positions, and the third row contains 6 positions. "
   ]
  },
  {
   "cell_type": "code",
   "execution_count": 19,
   "metadata": {
    "id": "FrOOUeqM2xqN"
   },
   "outputs": [
    {
     "name": "stdout",
     "output_type": "stream",
     "text": [
      "[-4, -11]\n",
      "[-27, 38, 35, 25]\n",
      "[24, 45, -1, -36, -49, -45]\n"
     ]
    }
   ],
   "source": [
    "\n",
    "rag_grid  = iArray(3)\n",
    "pos = 2\n",
    "for r in range (len(rag_grid)):\n",
    "    rag_grid[r] = iArray(pos)\n",
    "    pos += 2\n",
    "    for c in range (len(rag_grid[r])):\n",
    "        rag_grid[r][c] =  random.randint(-50,51)\n",
    "\n",
    "\n",
    "        \n",
    "for line in rag_grid:\n",
    "    print(line)"
   ]
  },
  {
   "cell_type": "markdown",
   "metadata": {
    "id": "TEbtnn-0pg6K",
    "nteract": {
     "transient": {
      "deleting": false
     }
    }
   },
   "source": [
    "\n",
    "\n",
    "### Question 2:\n",
    "A search algorithm `iSearch` and a variable `ilist` have been defined as follows:\n",
    "\n",
    "\n"
   ]
  },
  {
   "cell_type": "code",
   "execution_count": null,
   "metadata": {
    "execution": {
     "iopub.execute_input": "2020-09-21T20:37:21.272Z",
     "iopub.status.busy": "2020-09-21T20:37:21.262Z",
     "iopub.status.idle": "2020-09-21T20:37:21.293Z",
     "shell.execute_reply": "2020-09-21T20:37:21.301Z"
    },
    "id": "sAiYselppg6K",
    "jupyter": {
     "outputs_hidden": false,
     "source_hidden": false
    },
    "nteract": {
     "transient": {
      "deleting": false
     }
    }
   },
   "outputs": [],
   "source": [
    "def iSearch(target, lyst):\n",
    "    left = 0\n",
    "    right = len(lyst) - 1\n",
    "    step = 1\n",
    "    while left <= right:\n",
    "        midpoint = (left + right) // 2\n",
    "        print(f\"This is a tracer. On step {step}, left is {lyst[left]} at {left}, right is {lyst[right]} at {right},midpoint is {lyst[midpoint]} at {midpoint} \")\n",
    "        step+=1\n",
    "        if target == lyst[midpoint]:\n",
    "            return midpoint\n",
    "        elif target < lyst[midpoint]:\n",
    "            right = midpoint - 1\n",
    "        else:\n",
    "            left = midpoint + 1\n",
    "    return -1\n",
    "\n",
    "iList = [11, 20, 29, 33, 41, 55, 56, 62, 66, 74, 88]"
   ]
  },
  {
   "cell_type": "markdown",
   "metadata": {
    "id": "FRw3RLJ0pg6M",
    "nteract": {
     "transient": {
      "deleting": false
     }
    }
   },
   "source": [
    "**a)**  If the target element is `11`, trace the values of the variables `left`, `right`, and `midpoint` after applying the `iSearch` algorithm to the `iList` structure. \n",
    "\n"
   ]
  },
  {
   "cell_type": "code",
   "execution_count": null,
   "metadata": {
    "execution": {
     "iopub.execute_input": "2020-09-21T20:37:25.368Z",
     "iopub.status.busy": "2020-09-21T20:37:25.356Z",
     "iopub.status.idle": "2020-09-21T20:37:25.386Z",
     "shell.execute_reply": "2020-09-21T20:37:25.408Z"
    },
    "id": "PWvj1Z6lpg6N",
    "jupyter": {
     "outputs_hidden": false,
     "source_hidden": false
    },
    "nteract": {
     "transient": {
      "deleting": false
     }
    },
    "tags": []
   },
   "outputs": [],
   "source": [
    "iSearch(11, iList)"
   ]
  },
  {
   "cell_type": "markdown",
   "metadata": {
    "id": "_13c-rTBnxlK"
   },
   "source": [
    "**b)**  Repeat the tracing process in `Q1a` for target element `55`."
   ]
  },
  {
   "cell_type": "code",
   "execution_count": null,
   "metadata": {
    "id": "vNoyvywsn81B"
   },
   "outputs": [],
   "source": [
    "iSearch(55, iList)\n",
    "#tracing - 55"
   ]
  },
  {
   "cell_type": "markdown",
   "metadata": {
    "id": "1GzdrbRcoAoZ"
   },
   "source": [
    "**c)**  Why does the iSearch algorithm run faster in `Q1b` scenario than in `Q1a` scenario?"
   ]
  },
  {
   "cell_type": "markdown",
   "metadata": {
    "id": "xTJayafQoKPc"
   },
   "source": [
    " The algorith runs faster in Q1b as it is a binary search that start to searching the list by splitting it in half, and not linearly. It takes the algorith 1 itteration to access it at iList[5], while it takes 4 itterations to access the element 11 at iList[0]."
   ]
  },
  {
   "cell_type": "markdown",
   "metadata": {
    "id": "-jgFidXvoZlL"
   },
   "source": [
    "**d)** Modify the `iSearch` algorithm, so it can run in `Q1a` scenario as fast as it does in `Q1b` scenario."
   ]
  },
  {
   "cell_type": "code",
   "execution_count": null,
   "metadata": {
    "id": "iXfE02YFpVP8"
   },
   "outputs": [],
   "source": [
    "def iSearch_left(target, lyst):\n",
    "    left = 0\n",
    "    right = len(lyst) - 1\n",
    "    step = 1\n",
    "    while left <= right:\n",
    "        midpoint = (left + right) // 2\n",
    "        print(f\"This is a tracer. On step {step}, left is {lyst[left]} at {left}, right is {lyst[right]} at {right},midpoint is {lyst[midpoint]} at {midpoint} \")\n",
    "        step+=1\n",
    "        if target == lyst[midpoint]:\n",
    "            return midpoint\n",
    "        elif target == lyst[left]:\n",
    "            return left\n",
    "        elif target < lyst[midpoint]:\n",
    "            right = midpoint - 1\n",
    "        else:\n",
    "            left = midpoint + 1\n",
    "    return -1\n"
   ]
  },
  {
   "cell_type": "code",
   "execution_count": null,
   "metadata": {},
   "outputs": [],
   "source": [
    "iSearch_left(11,iList)"
   ]
  },
  {
   "cell_type": "markdown",
   "metadata": {
    "id": "dHN2KMqzm3J8"
   },
   "source": [
    "**e)** For a problem of size $n$, if algorithm `X` performs $n^4$ instructions, and algorithm `Y` performs $2^n$ instructions.  At what point does one of the algorithms begin to be more efficient and perform better than the other? Justify your answer."
   ]
  },
  {
   "cell_type": "markdown",
   "metadata": {},
   "source": [
    "Here, algorithm X performs better n = 1, but gets worse afterwards until it reaches a value of n = 17. At n = 17, algorithm Y becomes more expensive to run. That is because algorithm Y has time complexity of Exponential Time, which performs worse than Polynomial time in algorithm X."
   ]
  },
  {
   "cell_type": "code",
   "execution_count": null,
   "metadata": {},
   "outputs": [],
   "source": [
    "\n",
    "\n",
    "def algoX(n):\n",
    "    return n ** 4\n",
    "\n",
    "def algoY(n):\n",
    "    return 2 ** n\n",
    "\n",
    "\n",
    "\n",
    "for x in range(2,100):\n",
    "    if algoX(x) >= algoY(x):\n",
    "        print(\"For x = {0}, algoX {1}, algoY{2}\".format(x,algoX(x),algoY(x)))\n"
   ]
  },
  {
   "cell_type": "markdown",
   "metadata": {
    "id": "M9eJ34NNAvPT"
   },
   "source": [
    "*****"
   ]
  },
  {
   "cell_type": "markdown",
   "metadata": {
    "id": "NNVEX5FMq_I7"
   },
   "source": [
    "### Question 3:\n",
    "\n"
   ]
  },
  {
   "cell_type": "markdown",
   "metadata": {
    "id": "MI9TfOmkHHMT"
   },
   "source": [
    "Emulate the stack behaviour using the list data structure."
   ]
  },
  {
   "cell_type": "markdown",
   "metadata": {
    "id": "oDRF95yUAvPW",
    "pycharm": {
     "name": "#%% md\n"
    }
   },
   "source": [
    "**a)** Complete the methods of the following `Stack` class according to their description"
   ]
  },
  {
   "cell_type": "code",
   "execution_count": null,
   "metadata": {
    "id": "19WOpUCLMV0c"
   },
   "outputs": [],
   "source": [
    "class Stack:\n",
    "  def __init__(self):\n",
    "    \"\"\" Initialize a new stack \"\"\"\n",
    "    self.elements = []\n",
    "    \n",
    "  def push(self, new_item):\n",
    "    \"\"\" Append the new item to the stack \"\"\"\n",
    "    self.elements.append(new_item)\n",
    "    \n",
    "  def pop(self):\n",
    "    \"\"\" Remove and return the last item from the stack \"\"\"\n",
    "    return self.elements.pop()\n",
    "\n",
    "  def size(self):\n",
    "    \"\"\" Return the total number of elements in the stack \"\"\"\n",
    "    return len(self.elements)\n",
    "\n",
    "  def is_empty(self):\n",
    "    \"\"\" Return True if the stack is empty and False if it is not empty \"\"\"\n",
    "    if len(self.elements) == 0:\n",
    "        return True\n",
    "    else:\n",
    "        return False\n",
    "    \n",
    "  def peek(self):\n",
    "    \"\"\" Return the element at the top of the stack or return None if the stack is empty \"\"\"\n",
    "    if len(self.elements) != 0:\n",
    "        return self.elements[-1]\n",
    "    else:\n",
    "        return None"
   ]
  },
  {
   "cell_type": "markdown",
   "metadata": {
    "id": "YTYiW9MeAvPd"
   },
   "source": [
    "**b)** Use the `Stack` class that you defined in `Q3a` to complete the code of the `is_valid()` function, which checks whether the order of the brackets of an arithmetic expression is correct. Some examples are given below:"
   ]
  },
  {
   "cell_type": "code",
   "execution_count": null,
   "metadata": {
    "id": "7R1Gvj_DQJ6f"
   },
   "outputs": [],
   "source": [
    "exp1 = \"(2+3)+(1-5)\" # True\n",
    "exp2 = \"((3*2))*(7/3))\" # False\n",
    "exp3 = \"(3*5))]\" # False"
   ]
  },
  {
   "cell_type": "code",
   "execution_count": null,
   "metadata": {
    "id": "I5xGeroY_EEw"
   },
   "outputs": [],
   "source": [
    "def is_valid(exp):\n",
    "  \"\"\" Check the order of the brackets\n",
    "      Returns True or False\n",
    "  \"\"\"\n",
    "  opening = ['(', '[', '{']\n",
    "  closing = [')', ']', '}']\n",
    "  ev_stack = Stack()\n",
    "  for ch in exp:\n",
    "        if ch in opening:\n",
    "            ev_stack.push(ch)\n",
    "        elif ch in closing:\n",
    "            if ev_stack.is_empty():                \n",
    "                return False\n",
    "            \n",
    "            ch_stack = ev_stack.pop()\n",
    "            for i in range (len(opening)):\n",
    "                if ch_stack == opening[i] and ch != closing[i]:\n",
    "                    return False\n",
    "    \n",
    "  return True\n",
    "  \n",
    "\n"
   ]
  },
  {
   "cell_type": "code",
   "execution_count": null,
   "metadata": {},
   "outputs": [],
   "source": [
    "is_valid(exp1)"
   ]
  },
  {
   "cell_type": "code",
   "execution_count": null,
   "metadata": {},
   "outputs": [],
   "source": [
    "is_valid(exp2)"
   ]
  },
  {
   "cell_type": "code",
   "execution_count": null,
   "metadata": {},
   "outputs": [],
   "source": [
    "is_valid(exp3)"
   ]
  },
  {
   "cell_type": "markdown",
   "metadata": {
    "id": "bHHNxP0IAvPe"
   },
   "source": [
    "**c)** Use the `Stack` class that you defined in `Q3a` to complete the code of the `count_pairs()` function, which returns the number of the valid bracket pairs of an arithmetic expression. Some examples are given below:"
   ]
  },
  {
   "cell_type": "code",
   "execution_count": null,
   "metadata": {
    "id": "5Yf640FwRG8r"
   },
   "outputs": [],
   "source": [
    "exp1 = \"(2+3)+(1-5)\" # 2 pairs\n",
    "exp2 = \"((([()])))\" # 5 pairs\n",
    "exp3 = \"[([])\" # 2 pairs"
   ]
  },
  {
   "cell_type": "code",
   "execution_count": null,
   "metadata": {
    "id": "He8An4r_CJRA"
   },
   "outputs": [],
   "source": [
    "def count_pairs(exp):\n",
    "  \"\"\" Count the valid number of brackets\n",
    "      Returns the total number of valid brackets in the string\n",
    "  \"\"\"\n",
    "  opening = ['(', '[', '{']\n",
    "  closing = [')', ']', '}']\n",
    "  ev_stack = Stack()\n",
    "  pairs = 0\n",
    "  for ch in exp:\n",
    "        if ch in opening:\n",
    "            ev_stack.push(ch)\n",
    "        elif ch in closing:\n",
    "            if ev_stack.is_empty():\n",
    "                return False\n",
    "            \n",
    "            ch_stack = ev_stack.pop()\n",
    "            \n",
    "            for i in range (len(opening)):\n",
    "                if ch_stack == opening[i] and ch == closing[i]:\n",
    "                    pairs += 1\n",
    "                else:\n",
    "                    continue\n",
    "                    \n",
    "  return pairs\n",
    "\n",
    "\n"
   ]
  },
  {
   "cell_type": "code",
   "execution_count": null,
   "metadata": {},
   "outputs": [],
   "source": [
    "count_pairs(exp1)"
   ]
  },
  {
   "cell_type": "code",
   "execution_count": null,
   "metadata": {},
   "outputs": [],
   "source": [
    "count_pairs(exp2)"
   ]
  },
  {
   "cell_type": "code",
   "execution_count": null,
   "metadata": {},
   "outputs": [],
   "source": [
    "count_pairs(exp3)"
   ]
  },
  {
   "cell_type": "markdown",
   "metadata": {
    "id": "m4_G4E7t8VWQ"
   },
   "source": [
    "### Question 4:\n",
    "According to each method's documentation, complete the code of the `TextProcessor` class and its subclass `TextAnalyzer`."
   ]
  },
  {
   "cell_type": "code",
   "execution_count": null,
   "metadata": {
    "id": "nhAeupJB9KeX"
   },
   "outputs": [],
   "source": [
    "class TextProcessor:\n",
    "    \n",
    "  def __init__(self, text):\n",
    "    self.__text = text\n",
    "    self.__stopWords = []\n",
    "    \n",
    "  def setStopWords(self,stop_list):\n",
    "    ''' set stop words as recieved in the parameters '''\n",
    "    self.stopWords = stop_list\n",
    "    \n",
    "  def getStopWords(self):\n",
    "    ''' return stop words '''\n",
    "    return self.stopWords\n",
    "    \n",
    "  def getUniqWords(self):\n",
    "    return set(self.__text.split())\n",
    "\n",
    "  def getFilteredText(self):\n",
    "    ''' remove filter words from the text \n",
    "        return filtered text  \n",
    "        \n",
    "        \n",
    "        ##words[22] position doesnt get droppped for some reason, in this case it keeps an \"a\".\n",
    "        It is position related and has nothing to do with the actual token in that position.\n",
    "        I am aware this issue is there, but I have been unable to fix it, sorry.\n",
    "    '''\n",
    "    words = self.__text.split()\n",
    "    stop_w = self.getStopWords()\n",
    "\n",
    "    for word in words:\n",
    "        if word in stop_w:\n",
    "            words.remove(word)\n",
    "            \n",
    "    return words\n",
    "    \n",
    "class TextAnalyzer(TextProcessor):\n",
    "  \n",
    "    \n",
    "  def getWordFrequency(self):\n",
    "    ''' Call the getFilteredText() method\n",
    "        Create a dictionary of words\n",
    "        key = word and value= frequency\n",
    "        return the dictionary\n",
    "    '''\n",
    "    filter_txt = self.getFilteredText()\n",
    "    word_freq = {}\n",
    "    for word in filter_txt:\n",
    "        if word not in word_freq.keys():\n",
    "            word_freq[word] = 1\n",
    "        else:\n",
    "            word_freq[word] +=1\n",
    "    return str(word_freq)"
   ]
  },
  {
   "cell_type": "code",
   "execution_count": null,
   "metadata": {},
   "outputs": [],
   "source": [
    "ta = TextAnalyzer(\"a quick brown fox \" + \n",
    "                  \"a quick brown fox jumps \" + \n",
    "                  \"a quick brown fox jumps over \" + \n",
    "                  \"a quick brown fox jumps over the \" + \n",
    "                  \"a quick brown fox jumps over the lazy \" + \n",
    "                  \"a quick brown fox jumps over the lazy dog\")\n",
    "ta.setStopWords(['a', 'the'])\n",
    "ta.getWordFrequency()"
   ]
  },
  {
   "cell_type": "markdown",
   "metadata": {
    "id": "BaAOnvdP-LPK"
   },
   "source": [
    "Verify the correctness of your code using the following steps:\n",
    "\n",
    "1. Instantiate the `TextAnalyzer` class by creating an object called `ta` as follows:\n",
    "\n",
    "`ta = TextAnalyzer(\"a quick brown fox \" + \n",
    "                  \"a quick brown fox jumps \" + \n",
    "                  \"a quick brown fox jumps over \" + \n",
    "                  \"a quick brown fox jumps over the \" + \n",
    "                  \"a quick brown fox jumps over the lazy \" + \n",
    "                  \"a quick brown fox jumps over the lazy dog\")`\n",
    "\n",
    "2. Assign a list of stop words using the `setStopWords()` method:\n",
    "`ta.setStopWords(['a', 'the'])`\n",
    "\n",
    "3. Count the occurrences of each word using the `getWordFrequency()` method:\n",
    "`ta.getWordFrequency()`\n",
    "\n",
    "4. The output should be as follows\n",
    "`{'quick': 6, 'brown': 6, 'fox': 6, 'jumps': 5, 'over': 4, 'lazy': 2, 'dog': 1}}`\n"
   ]
  },
  {
   "cell_type": "markdown",
   "metadata": {
    "id": "l9l0sjUoAvPk"
   },
   "source": [
    "#### This is the end of assignment 3"
   ]
  }
 ],
 "metadata": {
  "colab": {
   "collapsed_sections": [],
   "name": "CIND830F20 Assignment 3 Q.ipynb",
   "provenance": [],
   "toc_visible": true
  },
  "kernelspec": {
   "display_name": "Python 3",
   "language": "python",
   "name": "python3"
  },
  "language_info": {
   "codemirror_mode": {
    "name": "ipython",
    "version": 3
   },
   "file_extension": ".py",
   "mimetype": "text/x-python",
   "name": "python",
   "nbconvert_exporter": "python",
   "pygments_lexer": "ipython3",
   "version": "3.7.7"
  },
  "nteract": {
   "version": "0.26.0"
  },
  "varInspector": {
   "cols": {
    "lenName": 16,
    "lenType": 16,
    "lenVar": 40
   },
   "kernels_config": {
    "python": {
     "delete_cmd_postfix": "",
     "delete_cmd_prefix": "del ",
     "library": "var_list.py",
     "varRefreshCmd": "print(var_dic_list())"
    },
    "r": {
     "delete_cmd_postfix": ") ",
     "delete_cmd_prefix": "rm(",
     "library": "var_list.r",
     "varRefreshCmd": "cat(var_dic_list()) "
    }
   },
   "types_to_exclude": [
    "module",
    "function",
    "builtin_function_or_method",
    "instance",
    "_Feature"
   ],
   "window_display": false
  }
 },
 "nbformat": 4,
 "nbformat_minor": 1
}
