{
 "cells": [
  {
   "cell_type": "code",
   "execution_count": 2,
   "metadata": {},
   "outputs": [],
   "source": [
    "#Q1\n",
    "#base algos\n",
    "def Algorithm_1(lyst):\n",
    "    i = 0\n",
    "    count = 0\n",
    "    while i < len(lyst) - 1:\n",
    "        minIndex = i\n",
    "        j = i + 1\n",
    "        while j < len(lyst):\n",
    "            if lyst[minIndex] > lyst[j]:\n",
    "                minIndex = j\n",
    "            j += 1\n",
    "        if minIndex != i:\n",
    "            lyst[minIndex], lyst[i] = lyst[i], lyst[minIndex]\n",
    "            count +=1\n",
    "        i += 1\n",
    "    return lyst,count"
   ]
  },
  {
   "cell_type": "code",
   "execution_count": 11,
   "metadata": {},
   "outputs": [],
   "source": [
    "def Algorithm_2(lyst):\n",
    "    n = len(lyst)\n",
    "    count = 0\n",
    "    while n > 1:\n",
    "        i = 1 \n",
    "        while i < n:\n",
    "            if lyst[i] < lyst[i-1]:\n",
    "                lyst[i], lyst[i-1] = lyst[i-1], lyst[i]\n",
    "                count += 1\n",
    "            i += 1\n",
    "        n -= 1\n",
    "    return lyst, count"
   ]
  },
  {
   "cell_type": "code",
   "execution_count": 12,
   "metadata": {},
   "outputs": [
    {
     "name": "stdout",
     "output_type": "stream",
     "text": [
      "([1, 2, 3, 4, 5, 6, 8, 9], 6)\n"
     ]
    }
   ],
   "source": [
    "t_list = [5,6,8,3,2,1,9,4]\n",
    "test = Algorithm_1(t_list)\n",
    "print(test)"
   ]
  },
  {
   "cell_type": "code",
   "execution_count": 13,
   "metadata": {},
   "outputs": [
    {
     "name": "stdout",
     "output_type": "stream",
     "text": [
      "([1, 2, 3, 4, 5, 6, 8, 9], 16)\n"
     ]
    }
   ],
   "source": [
    "t_list2 = [5,6,8,3,2,1,9,4]\n",
    "test2 = Algorithm_2(t_list2)\n",
    "print(test2)"
   ]
  },
  {
   "cell_type": "code",
   "execution_count": 500,
   "metadata": {},
   "outputs": [],
   "source": [
    "#Q3 base code\n",
    "class iArray:\n",
    "    def __init__(self,capacity, fillValue = None):\n",
    "        self._items = list()\n",
    "        for _ in range(capacity):\n",
    "            self._items.append(fillValue)\n",
    "    \n",
    "    def __len__(self):\n",
    "        return len(self._items)\n",
    "    \n",
    "    def __str__(self):\n",
    "        return str(self._items)\n",
    "    \n",
    "    def __item__(self):\n",
    "        return iter(self._items)\n",
    "    \n",
    "    def __getitem__(self,index):\n",
    "        return self._items[index]\n",
    "    \n",
    "    def __setitem__(self, index, newItem):\n",
    "        self._items[index] = newItem\n",
    "            "
   ]
  },
  {
   "cell_type": "code",
   "execution_count": 143,
   "metadata": {},
   "outputs": [
    {
     "name": "stdout",
     "output_type": "stream",
     "text": [
      "[-18, 30, 36]\n",
      "[39, -22, -43, 10]\n",
      "[-26, -7, -49, 21, 46, 15]\n",
      "[-12]\n"
     ]
    }
   ],
   "source": [
    "#Q3a\n",
    "import random\n",
    "rag_grid  = iArray(4)\n",
    "pos = [3,4,6,1]\n",
    "for r in range (len(rag_grid)):\n",
    "    rag_grid[r] = iArray(pos[r])\n",
    "    for c in range (len(rag_grid[r])):\n",
    "        rag_grid[r][c] =  random.randint(-50,51)\n",
    "\n",
    "\n",
    "        \n",
    "for line in rag_grid:\n",
    "    print(line)"
   ]
  },
  {
   "cell_type": "code",
   "execution_count": 149,
   "metadata": {},
   "outputs": [
    {
     "name": "stdout",
     "output_type": "stream",
     "text": [
      "[34, 97, -31, 50]\n",
      "[-56, 53, -26, -79]\n",
      "[-64, -100, -14, 1]\n",
      "[<__main__.iArray object at 0x000001DA4F213AC8>, <__main__.iArray object at 0x000001DA4F230E88>, <__main__.iArray object at 0x000001DA4F1F0E48>]\n"
     ]
    }
   ],
   "source": [
    "#Q3b\n",
    "s_grid  = iArray(3)\n",
    "for r in range (len(s_grid)):\n",
    "    s_grid[r] = iArray(4)\n",
    "    for c in range (len(s_grid[r])):\n",
    "        s_grid[r][c] =  random.randint(-100,101)\n",
    "\n",
    "\n",
    "        \n",
    "for line in s_grid:\n",
    "    print(line)"
   ]
  },
  {
   "cell_type": "code",
   "execution_count": 489,
   "metadata": {},
   "outputs": [],
   "source": [
    "#Q3c\n",
    "class Deque(iArray):\n",
    "    def __init__(self, capacity = 10):\n",
    "        super().__init__(capacity)\n",
    "        self._left = 0\n",
    "        self._size = 0\n",
    "        self._right = capacity - 1\n",
    "    \n",
    "    def append_left(self, newItem):\n",
    "        self._items[self._left] = newItem\n",
    "        self._left += 1\n",
    "        self._size += 1\n",
    "        \n",
    "    \n",
    "    def append_right(self, newItem):\n",
    "        self._items[self._right] = newItem\n",
    "        self._right -= 1\n",
    "        self._size += 1\n",
    "        \n",
    "    \n",
    "    def pop_left(self):\n",
    "        n = 0\n",
    "        oldItem = self._items[n]\n",
    "        while oldItem is None:\n",
    "            n += 1\n",
    "            oldItem = self._items[n]\n",
    "            \n",
    "        self._items[n] = None\n",
    "        self._left = n\n",
    "        self._size -= 1\n",
    "        return oldItem\n",
    "    \n",
    "    def pop_right(self):\n",
    "        n = len(self._items)-1\n",
    "        oldItem = self._items[n]\n",
    "        while oldItem is None:\n",
    "            n -=1\n",
    "            oldItem = self._items[n]\n",
    "        self._items[n] = None\n",
    "        self._right = n\n",
    "        self._size -= 1\n",
    "        return oldItem\n",
    "    \n",
    "    def peek_left(self):\n",
    "        pass\n",
    "    \n",
    "    def __len__(self):\n",
    "        pass"
   ]
  },
  {
   "cell_type": "code",
   "execution_count": 501,
   "metadata": {},
   "outputs": [],
   "source": [
    "#Q2 base code\n",
    "class aStack(iArray):\n",
    "    def __init__(self, capacity=5):\n",
    "        self._items = iArray(capacity)\n",
    "        self._top = -1\n",
    "        self._size = 0\n",
    "        \n",
    "    def push(self,newItem):\n",
    "        self._top += 1\n",
    "        self._size += 1\n",
    "        self._items[self._top] = newItem\n",
    "     \n",
    "    def pop(self):\n",
    "        oldItem = self._items[self._top]\n",
    "        self._items[self._top] = None\n",
    "        self._top -= 1\n",
    "        self._size -= 1\n",
    "        return oldItem\n",
    "    \n",
    "    def peek(self):\n",
    "        return self._items[self._top]\n",
    "    \n",
    "    def __len__(self):\n",
    "        return self._size\n",
    "    \n",
    "    def __str__(self):\n",
    "        result = \" \"\n",
    "        for i in range(len(self)):\n",
    "            result += str(self._items[i]) + \" \"\n",
    "        return result\n",
    "        \n",
    "          "
   ]
  },
  {
   "cell_type": "code",
   "execution_count": 502,
   "metadata": {},
   "outputs": [],
   "source": [
    "#Q2a Emulate stack behaviour using the Python list data structure rather than the Array ADT\n",
    "class bStack:\n",
    "    def __init__(self, capacity=5):\n",
    "        self._items = [None for x in range(capacity)]\n",
    "        \n",
    "    def push(self,newItem):\n",
    "        self._items.append(newItem)\n",
    "     \n",
    "    def pop(self):\n",
    "        oldItem = self._items[len(self._items)-1]\n",
    "        self._items.pop(len(self._items)-1)\n",
    "        return oldItem\n",
    "    \n",
    "    def peek(self):\n",
    "        return self._items[len(self._items)-1]\n",
    "    \n",
    "    def __len__(self):\n",
    "        return len([item for item in self._items if item != None])\n",
    "    \n",
    "    def __str__(self):\n",
    "        return str([item for item in self._items if item != None])\n",
    "        "
   ]
  },
  {
   "cell_type": "code",
   "execution_count": 503,
   "metadata": {},
   "outputs": [],
   "source": [
    "#Q2b Redefine the Stack class method to push and pop two items rather than one at a time\n",
    "class cStack(iArray):\n",
    "    def __init__(self, capacity=10):\n",
    "        self._items = iArray(capacity)\n",
    "        self._top = -1\n",
    "        self._size = 0\n",
    "        \n",
    "    def push(self,newItems):\n",
    "        for item in newItems:\n",
    "            self._top += 1\n",
    "            self._size += 1\n",
    "            self._items[self._top] = item\n",
    "\n",
    "     \n",
    "    def pop(self):\n",
    "        oldItems = self._items[self._top-1],self._items[self._top]\n",
    "        self._items[self._top] = None\n",
    "        self._items[self._top-1] = None\n",
    "        self._top -= 2\n",
    "        self._size -= 2\n",
    "        return oldItems\n",
    "    \n",
    "    def peek(self):\n",
    "        return self._items[self._top]\n",
    "    \n",
    "    def __len__(self):\n",
    "        return self._size\n",
    "    \n",
    "    def __str__(self):\n",
    "        result = \" \"\n",
    "        for i in range(len(self)):\n",
    "            result += str(self._items[i]) + \" \"\n",
    "        return result\n",
    "        "
   ]
  },
  {
   "cell_type": "code",
   "execution_count": 510,
   "metadata": {},
   "outputs": [
    {
     "name": "stdout",
     "output_type": "stream",
     "text": [
      "Pushed ( 1 2 )\n",
      "Poped (1, 2)\n"
     ]
    }
   ],
   "source": [
    "test_cStack = cStack()\n",
    "test_cStack.push([1,2])\n",
    "print(f'Pushed ({test_cStack})')\n",
    "print(f'Poped {test_cStack.pop()}')"
   ]
  },
  {
   "cell_type": "code",
   "execution_count": 504,
   "metadata": {},
   "outputs": [],
   "source": [
    "#Q2c Define and implement a function that reverses the items in the stack using only methods defined in the Stack class\n",
    "\n",
    "def stack_reverse(stack):\n",
    "    temp_list = []\n",
    "    \n",
    "    for _ in range(len(stack)):\n",
    "        temp_list.append(stack.pop())\n",
    "        \n",
    "    for item in temp_list:\n",
    "        stack.push(item)\n",
    "        \n",
    "    return stack\n",
    "        \n",
    "        "
   ]
  },
  {
   "cell_type": "code",
   "execution_count": 511,
   "metadata": {},
   "outputs": [
    {
     "name": "stdout",
     "output_type": "stream",
     "text": [
      " 0 1 2 3 4 \n"
     ]
    }
   ],
   "source": [
    "test_aStack = aStack()\n",
    "for i in range(5):\n",
    "    test_aStack.push(i)\n",
    "print(test_aStack)"
   ]
  },
  {
   "cell_type": "code",
   "execution_count": 512,
   "metadata": {},
   "outputs": [
    {
     "name": "stdout",
     "output_type": "stream",
     "text": [
      " 4 3 2 1 0 \n"
     ]
    }
   ],
   "source": [
    "rev_stack = stack_reverse(test_aStack)\n",
    "print(rev_stack)"
   ]
  },
  {
   "cell_type": "code",
   "execution_count": null,
   "metadata": {},
   "outputs": [],
   "source": []
  }
 ],
 "metadata": {
  "kernelspec": {
   "display_name": "Python 3",
   "language": "python",
   "name": "python3"
  },
  "language_info": {
   "codemirror_mode": {
    "name": "ipython",
    "version": 3
   },
   "file_extension": ".py",
   "mimetype": "text/x-python",
   "name": "python",
   "nbconvert_exporter": "python",
   "pygments_lexer": "ipython3",
   "version": "3.7.7"
  }
 },
 "nbformat": 4,
 "nbformat_minor": 4
}
